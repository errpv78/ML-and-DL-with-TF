{
 "cells": [
  {
   "cell_type": "markdown",
   "metadata": {},
   "source": [
    "## Why data preprocessing in ML and DL?\n",
    "1. Preventing early saturation of non-linear activation functions like sigmoid function.      2. Assuring that all input is in same range of values etc.\n",
    "\n",
    "### Vanishing Gradient Problem\n",
    "If we use a sigmoid function for our activation function, then, if z (the output of the neuron prior to the activate function) is very large or very small, the derivative will be approximately 0. In consequence, when we go to compute the gradient and update the weights, the change will be so infinitesimally small that the model won’t improve. The latter is known as the vanishing gradient problem.\n",
    "\n",
    "In normalizing the output of the neuron before it enters the activation function, we can ensure it remains close to 0 where the derivative highest.\n",
    "\n",
    "#### Standard deviation is equal to the square root of the variance.\n",
    "\n",
    "### Need for batch normalization\n",
    "The distribution of the activations in intermediate layers is constantly changing during training. This slows down the training process because each layer must learn to adapt themselves to a new distribution in every training step. This problem is known as internal covariate shift.\n",
    "\n",
    "### Batch Normalization\n",
    "Batch normalization is a method we can use to normalize the inputs of each layer, in order to fight the internal covariate shift problem.\n",
    "During training time, a batch normalization layer does the following:\n",
    "\n",
    "1. Calculate the mean and variance of the layers input.\n",
    "\n",
    "2. Normalize the layer inputs using the previously calculated batch statistics.\n",
    "\n",
    "3. Scale and shift in order to obtain the output of the layer.\n"
   ]
  },
  {
   "cell_type": "code",
   "execution_count": 1,
   "metadata": {},
   "outputs": [],
   "source": [
    "import matplotlib.pyplot as plt\n",
    "import numpy as np\n",
    "import tensorflow as tf\n",
    "import tensorflow_datasets as tfds\n",
    "import time"
   ]
  },
  {
   "cell_type": "code",
   "execution_count": 2,
   "metadata": {},
   "outputs": [],
   "source": [
    "from keras.models import Sequential\n",
    "from keras.layers import BatchNormalization, Activation\n",
    "from keras.layers import Conv2D, MaxPooling2D, Dense, Flatten\n",
    "from keras.datasets import fashion_mnist\n",
    "from keras.utils import normalize, to_categorical"
   ]
  },
  {
   "cell_type": "code",
   "execution_count": 3,
   "metadata": {},
   "outputs": [],
   "source": [
    "# Checking if GPU available\n",
    "physical_devices = tf.config.experimental.list_physical_devices(\"GPU\")\n",
    "tf.config.experimental.set_memory_growth(physical_devices[0], True)"
   ]
  },
  {
   "cell_type": "markdown",
   "metadata": {},
   "source": [
    "# Loading Data"
   ]
  },
  {
   "cell_type": "code",
   "execution_count": 4,
   "metadata": {},
   "outputs": [
    {
     "name": "stdout",
     "output_type": "stream",
     "text": [
      "Train x: (60000, 28, 28)\n",
      "Train y: (60000,)\n",
      "Test x: (10000, 28, 28)\n",
      "Test y: (10000,)\n"
     ]
    }
   ],
   "source": [
    "(x_train, y_train), (x_test, y_test) = fashion_mnist.load_data()\n",
    "print(\"Train x:\",x_train.shape)\n",
    "print(\"Train y:\",y_train.shape)\n",
    "print(\"Test x:\",x_test.shape)\n",
    "print(\"Test y:\",y_test.shape)"
   ]
  },
  {
   "cell_type": "code",
   "execution_count": 5,
   "metadata": {},
   "outputs": [
    {
     "name": "stdout",
     "output_type": "stream",
     "text": [
      "Image label:  Trouser\n"
     ]
    },
    {
     "data": {
      "image/png": "[encoded data removed]",
      "text/plain": [
       "<Figure size 432x288 with 1 Axes>"
      ]
     },
     "metadata": {
      "needs_background": "light"
     },
     "output_type": "display_data"
    }
   ],
   "source": [
    "# Labels and data visualization\n",
    "labels = [\"T-shirt/top\", \n",
    "          \"Trouser\",    \n",
    "          \"Pullover\",  \n",
    "          \"Dress\",     \n",
    "          \"Coat\",      \n",
    "          \"Sandal\",    \n",
    "          \"Shirt\",     \n",
    "          \"Sneaker\",   \n",
    "          \"Bag\",       \n",
    "          \"Ankle boot\"]\n",
    "def show_image(ind): # Display image\n",
    "    plt.imshow(x_train[ind], cmap='gray')    \n",
    "    print(\"Image label: \", labels[y_train[ind]])\n",
    "\n",
    "show_image(78)"
   ]
  },
  {
   "cell_type": "markdown",
   "metadata": {},
   "source": [
    "# Data Preprocessing"
   ]
  },
  {
   "cell_type": "code",
   "execution_count": 6,
   "metadata": {},
   "outputs": [],
   "source": [
    "# Normalization\n",
    "\n",
    "# axis: axis along which to normalize\n",
    "x_train = normalize(x_train, axis=1)\n",
    "x_test = normalize(x_test, axis=1)"
   ]
  },
  {
   "cell_type": "code",
   "execution_count": 7,
   "metadata": {},
   "outputs": [
    {
     "name": "stdout",
     "output_type": "stream",
     "text": [
      "x_train shape: (50000, 28, 28, 1) y_train shape: (50000, 10)\n",
      "x_valid shape: (10000, 28, 28, 1) y_valid shape: (10000, 10)\n",
      "x_test shape: (10000, 28, 28, 1) y_test shape: (10000, 10)\n",
      "50000 samples in train set\n",
      "10000 samples in validation set\n",
      "10000 samples in test set\n"
     ]
    }
   ],
   "source": [
    "# Validation data\n",
    "(x_train, x_valid) = x_train[10000:], x_train[:10000] \n",
    "(y_train, y_valid) = y_train[10000:], y_train[:10000]\n",
    "\n",
    "# Reshape input data from (28, 28) to (28, 28, 1)\n",
    "# tf.expan_dims: Returns a tensor with an additional dimension \n",
    "# inserted at index axis\n",
    "x_train = tf.expand_dims(x_train, axis = -1)\n",
    "x_valid = tf.expand_dims(x_valid, axis = -1)\n",
    "x_test = tf.expand_dims(x_test, axis = -1)\n",
    "\n",
    "# One-hot encoding of the integer labels to convert to binary class \n",
    "# matrix\n",
    "\n",
    "# tf.keras.utils.to_categorical: Converts a class vector (integers) to \n",
    "# binary class matrix. \n",
    "y_train = to_categorical(y_train, 10)\n",
    "y_valid = to_categorical(y_valid, 10)\n",
    "y_test = to_categorical(y_test, 10)\n",
    "\n",
    "\n",
    "# Print training, validation, test set shape\n",
    "print(\"x_train shape:\", x_train.shape, \"y_train shape:\", y_train.shape)\n",
    "print(\"x_valid shape:\", x_valid.shape, \"y_valid shape:\", y_valid.shape)\n",
    "print(\"x_test shape:\", x_test.shape, \"y_test shape:\", y_test.shape)\n",
    "\n",
    "\n",
    "# Print the number of training, validation, and test datasets\n",
    "print(x_train.shape[0], 'samples in train set')\n",
    "print(x_valid.shape[0], 'samples in validation set')\n",
    "print(x_test.shape[0], 'samples in test set')"
   ]
  },
  {
   "cell_type": "code",
   "execution_count": 8,
   "metadata": {},
   "outputs": [],
   "source": [
    "def model_build(batch_normalization, activation):\n",
    "    s = time.time()\n",
    "    model = tf.keras.Sequential()\n",
    "\n",
    "    # Must define input shape in first layer of the neural network\n",
    "    \n",
    "    # Padding: With \"SAME\" padding, if you use a stride of 1, layer's\n",
    "    # outputs will have same spatial dimensions as its inputs. With \n",
    "    # \"VALID\" padding, there's no \"made-up\" padding inputs. The layer \n",
    "    # only uses valid input data.\n",
    "    \n",
    "    # kernel_size: An integer or tuple/list of 2 integers, specifying \n",
    "    # height and width of 2D convolution window. Can be a single \n",
    "    # integer to specify same value for all spatial dimensions.\n",
    "    \n",
    "    model.add(tf.keras.layers.Conv2D(filters=64, kernel_size=2, \n",
    "        padding='same', activation=activation, input_shape=(28,28,1))) \n",
    "    \n",
    "    if batch_normalization:\n",
    "        model.add(BatchNormalization())\n",
    "\n",
    "    # pool_size\tinteger or tuple of 2 integers, window size over which\n",
    "    # to take the maximum. (2, 2) will take the max value over a 2x2 \n",
    "    # pooling window. If only one integer is specified, same window \n",
    "    # length will be used for both dimensions.\n",
    "    model.add(tf.keras.layers.MaxPooling2D(pool_size=2))\n",
    "\n",
    "    model.add(tf.keras.layers.Dropout(0.3))\n",
    "    model.add(tf.keras.layers.Conv2D(filters=32, kernel_size=2, \n",
    "                            padding='same', activation=activation))\n",
    "    if batch_normalization:\n",
    "        model.add(BatchNormalization())\n",
    "    model.add(tf.keras.layers.MaxPooling2D(pool_size=2))\n",
    "\n",
    "    model.add(tf.keras.layers.Dropout(0.3))\n",
    "    model.add(tf.keras.layers.Flatten())\n",
    "    model.add(tf.keras.layers.Dense(256, activation=activation))\n",
    "    model.add(tf.keras.layers.Dropout(0.5))\n",
    "    model.add(tf.keras.layers.Dense(10, activation='softmax'))\n",
    "\n",
    "    # Take a look at the model summary\n",
    "    e = time.time()\n",
    "    print('Model Generation time: ', e-s)\n",
    "    model.summary()\n",
    "    return model"
   ]
  },
  {
   "cell_type": "code",
   "execution_count": 9,
   "metadata": {},
   "outputs": [
    {
     "name": "stdout",
     "output_type": "stream",
     "text": [
      "Model Generation time:  72.73888182640076\n",
      "Model: \"sequential\"\n",
      "_________________________________________________________________\n",
      "Layer (type)                 Output Shape              Param #   \n",
      "=================================================================\n",
      "conv2d (Conv2D)              (None, 28, 28, 64)        320       \n",
      "_________________________________________________________________\n",
      "batch_normalization (BatchNo (None, 28, 28, 64)        256       \n",
      "_________________________________________________________________\n",
      "max_pooling2d (MaxPooling2D) (None, 14, 14, 64)        0         \n",
      "_________________________________________________________________\n",
      "dropout (Dropout)            (None, 14, 14, 64)        0         \n",
      "_________________________________________________________________\n",
      "conv2d_1 (Conv2D)            (None, 14, 14, 32)        8224      \n",
      "_________________________________________________________________\n",
      "batch_normalization_1 (Batch (None, 14, 14, 32)        128       \n",
      "_________________________________________________________________\n",
      "max_pooling2d_1 (MaxPooling2 (None, 7, 7, 32)          0         \n",
      "_________________________________________________________________\n",
      "dropout_1 (Dropout)          (None, 7, 7, 32)          0         \n",
      "_________________________________________________________________\n",
      "flatten (Flatten)            (None, 1568)              0         \n",
      "_________________________________________________________________\n",
      "dense (Dense)                (None, 256)               401664    \n",
      "_________________________________________________________________\n",
      "dropout_2 (Dropout)          (None, 256)               0         \n",
      "_________________________________________________________________\n",
      "dense_1 (Dense)              (None, 10)                2570      \n",
      "=================================================================\n",
      "Total params: 413,162\n",
      "Trainable params: 412,970\n",
      "Non-trainable params: 192\n",
      "_________________________________________________________________\n"
     ]
    }
   ],
   "source": [
    "model = model_build(True, 'sigmoid')"
   ]
  },
  {
   "cell_type": "code",
   "execution_count": 10,
   "metadata": {},
   "outputs": [],
   "source": [
    "model.compile(loss='categorical_crossentropy',\n",
    "             optimizer='adam',\n",
    "             metrics=['accuracy'])"
   ]
  },
  {
   "cell_type": "code",
   "execution_count": 11,
   "metadata": {},
   "outputs": [
    {
     "name": "stdout",
     "output_type": "stream",
     "text": [
      "Epoch 1/10\n",
      "782/782 [==============================] - ETA: 0s - loss: 0.5499 - accuracy: 0.7987\n",
      "Epoch 00001: val_loss improved from inf to 0.58149, saving model to 2_batch_norm_model.weights.best.hdf5\n",
      "782/782 [==============================] - 21s 27ms/step - loss: 0.5499 - accuracy: 0.7987 - val_loss: 0.5815 - val_accuracy: 0.7606\n",
      "Epoch 2/10\n",
      "780/782 [============================>.] - ETA: 0s - loss: 0.3863 - accuracy: 0.8583\n",
      "Epoch 00002: val_loss improved from 0.58149 to 0.47831, saving model to 2_batch_norm_model.weights.best.hdf5\n",
      "782/782 [==============================] - 21s 27ms/step - loss: 0.3863 - accuracy: 0.8583 - val_loss: 0.4783 - val_accuracy: 0.8036\n",
      "Epoch 3/10\n",
      "781/782 [============================>.] - ETA: 0s - loss: 0.3473 - accuracy: 0.8739\n",
      "Epoch 00003: val_loss improved from 0.47831 to 0.30559, saving model to 2_batch_norm_model.weights.best.hdf5\n",
      "782/782 [==============================] - 21s 27ms/step - loss: 0.3473 - accuracy: 0.8739 - val_loss: 0.3056 - val_accuracy: 0.8909\n",
      "Epoch 4/10\n",
      "782/782 [==============================] - ETA: 0s - loss: 0.3239 - accuracy: 0.8814\n",
      "Epoch 00004: val_loss improved from 0.30559 to 0.27973, saving model to 2_batch_norm_model.weights.best.hdf5\n",
      "782/782 [==============================] - 21s 27ms/step - loss: 0.3239 - accuracy: 0.8814 - val_loss: 0.2797 - val_accuracy: 0.9002\n",
      "Epoch 5/10\n",
      "780/782 [============================>.] - ETA: 0s - loss: 0.3136 - accuracy: 0.8844\n",
      "Epoch 00005: val_loss did not improve from 0.27973\n",
      "782/782 [==============================] - 21s 27ms/step - loss: 0.3134 - accuracy: 0.8845 - val_loss: 0.2815 - val_accuracy: 0.8942\n",
      "Epoch 6/10\n",
      "782/782 [==============================] - ETA: 0s - loss: 0.2989 - accuracy: 0.8902\n",
      "Epoch 00006: val_loss did not improve from 0.27973\n",
      "782/782 [==============================] - 21s 27ms/step - loss: 0.2989 - accuracy: 0.8902 - val_loss: 0.2909 - val_accuracy: 0.8935\n",
      "Epoch 7/10\n",
      "781/782 [============================>.] - ETA: 0s - loss: 0.2910 - accuracy: 0.8933\n",
      "Epoch 00007: val_loss did not improve from 0.27973\n",
      "782/782 [==============================] - 22s 29ms/step - loss: 0.2909 - accuracy: 0.8933 - val_loss: 0.2941 - val_accuracy: 0.8890\n",
      "Epoch 8/10\n",
      "780/782 [============================>.] - ETA: 0s - loss: 0.2798 - accuracy: 0.8970\n",
      "Epoch 00008: val_loss improved from 0.27973 to 0.26887, saving model to 2_batch_norm_model.weights.best.hdf5\n",
      "782/782 [==============================] - 21s 27ms/step - loss: 0.2798 - accuracy: 0.8970 - val_loss: 0.2689 - val_accuracy: 0.8992\n",
      "Epoch 9/10\n",
      "782/782 [==============================] - ETA: 0s - loss: 0.2738 - accuracy: 0.9000\n",
      "Epoch 00009: val_loss improved from 0.26887 to 0.24706, saving model to 2_batch_norm_model.weights.best.hdf5\n",
      "782/782 [==============================] - 22s 29ms/step - loss: 0.2738 - accuracy: 0.9000 - val_loss: 0.2471 - val_accuracy: 0.9103\n",
      "Epoch 10/10\n",
      "780/782 [============================>.] - ETA: 0s - loss: 0.2635 - accuracy: 0.9028\n",
      "Epoch 00010: val_loss did not improve from 0.24706\n",
      "782/782 [==============================] - 24s 30ms/step - loss: 0.2637 - accuracy: 0.9027 - val_loss: 0.3064 - val_accuracy: 0.8866\n",
      "Model Training time:  218.68054509162903\n"
     ]
    },
    {
     "data": {
      "text/plain": [
       "'ModelCheckpoint callback is used in conjunction with training using\\nmodel.fit() to save a model or weights (in a checkpoint file) at some\\ninterval, so model or weights can be loaded later to continue training\\nfrom state saved.'"
      ]
     },
     "execution_count": 11,
     "metadata": {},
     "output_type": "execute_result"
    }
   ],
   "source": [
    "from keras.callbacks import ModelCheckpoint\n",
    "# ModelCheckpoint: Callback to save Keras model or model weights at\n",
    "# some frequency.\n",
    "\n",
    "checkpointer = ModelCheckpoint(\n",
    "    filepath='2_batch_norm_model.weights.best.hdf5', \n",
    "    verbose = 1, save_best_only=True)\n",
    "\n",
    "s = time.time()\n",
    "model_history = model.fit(x_train,\n",
    "         y_train,\n",
    "         batch_size=64,\n",
    "         epochs=10,\n",
    "         validation_data=(x_valid, y_valid),\n",
    "         callbacks=[checkpointer])\n",
    "\n",
    "e = time.time()\n",
    "print('Model Training time: ', e-s)\n",
    "\n",
    "\n",
    "\"\"\"ModelCheckpoint callback is used in conjunction with training using\n",
    "model.fit() to save a model or weights (in a checkpoint file) at some\n",
    "interval, so model or weights can be loaded later to continue training\n",
    "from state saved.\"\"\""
   ]
  },
  {
   "cell_type": "code",
   "execution_count": 12,
   "metadata": {},
   "outputs": [
    {
     "data": {
      "text/plain": [
       "[]"
      ]
     },
     "execution_count": 12,
     "metadata": {},
     "output_type": "execute_result"
    },
    {
     "data": {
      "image/png": "[encoded data removed]",
      "text/plain": [
       "<Figure size 432x288 with 1 Axes>"
      ]
     },
     "metadata": {
      "needs_background": "light"
     },
     "output_type": "display_data"
    }
   ],
   "source": [
    "# Training and Validation Loss Comparison\n",
    "loss = model_history.history['loss']\n",
    "val_loss = model_history.history['val_loss']\n",
    "epochs = range(1, len(loss)+1)\n",
    "plt.plot(epochs, loss, 'r', label='Training Loss')\n",
    "plt.plot(epochs, val_loss, 'g', label='Validation Loss')\n",
    "plt.title('Training and Validation Loss Comparison')\n",
    "plt.xlabel('Epoochs')\n",
    "plt.ylabel('Loss')\n",
    "plt.legend()\n",
    "plt.plot()"
   ]
  },
  {
   "cell_type": "code",
   "execution_count": 13,
   "metadata": {},
   "outputs": [
    {
     "data": {
      "image/png": "[encoded data removed]",
      "text/plain": [
       "<Figure size 432x288 with 1 Axes>"
      ]
     },
     "metadata": {
      "needs_background": "light"
     },
     "output_type": "display_data"
    }
   ],
   "source": [
    "# Training and Validation Accuracy comparison\n",
    "acc = model_history.history['accuracy']\n",
    "val_acc = model_history.history['val_accuracy']\n",
    "plt.plot(epochs, acc, 'r', label='Training acc')\n",
    "plt.plot(epochs, val_acc, 'g', label='Validation acc')\n",
    "plt.title('Training and Validation Accuracy Comparison')\n",
    "plt.xlabel('Epochs')\n",
    "plt.ylabel('Accuracy')\n",
    "plt.legend()\n",
    "plt.show()"
   ]
  },
  {
   "cell_type": "code",
   "execution_count": 14,
   "metadata": {},
   "outputs": [],
   "source": [
    "# Load the weights with the best validation accuracy\n",
    "model.load_weights('2_batch_norm_model.weights.best.hdf5')"
   ]
  },
  {
   "cell_type": "code",
   "execution_count": 15,
   "metadata": {},
   "outputs": [
    {
     "name": "stdout",
     "output_type": "stream",
     "text": [
      "Model Prediction time:  2.2132203578948975\n",
      "\n",
      " Test accuracy: 0.900600016117096\n"
     ]
    }
   ],
   "source": [
    "# Evaluate the model on test set\n",
    "s = time.time()\n",
    "score = model.evaluate(x_test, y_test, verbose=0)\n",
    "e = time.time()\n",
    "print('Model Prediction time: ', e-s)\n",
    "\n",
    "\n",
    "# Print test accuracy\n",
    "print('\\n', 'Test accuracy:', score[1])"
   ]
  },
  {
   "cell_type": "code",
   "execution_count": 16,
   "metadata": {},
   "outputs": [
    {
     "data": {
      "image/png": "[encoded data removed]",
      "text/plain": [
       "<Figure size 1440x576 with 15 Axes>"
      ]
     },
     "metadata": {},
     "output_type": "display_data"
    }
   ],
   "source": [
    "y_hat = model.predict(x_test)\n",
    "\n",
    "# Plot a random sample of 10 test images, their predicted labels and\n",
    "# ground truth\n",
    "figure = plt.figure(figsize=(20, 8))\n",
    "for i, index in enumerate(np.random.choice(x_test.shape[0], size=15, replace=False)):\n",
    "    ax = figure.add_subplot(3, 5, i + 1, xticks=[], yticks=[])\n",
    "    \n",
    "    # Display each image\n",
    "    ax.imshow(np.squeeze(x_test[index]))\n",
    "    predict_index = np.argmax(y_hat[index])\n",
    "    true_index = np.argmax(y_test[index])\n",
    "    # Set the title for each image\n",
    "    ax.set_title(\"{} ({})\".format(labels[predict_index], \n",
    "                        labels[true_index]),\n",
    "            color=(\"green\" if predict_index == true_index else \"red\"))"
   ]
  },
  {
   "cell_type": "markdown",
   "metadata": {},
   "source": [
    "# Performance Comparison"
   ]
  },
  {
   "cell_type": "code",
   "execution_count": 17,
   "metadata": {},
   "outputs": [
    {
     "data": {
      "text/plain": [
       "'Test accuracy: 0.8057000041007996'"
      ]
     },
     "execution_count": 17,
     "metadata": {},
     "output_type": "execute_result"
    }
   ],
   "source": [
    "# Model 1\n",
    "# Batch Normalization: False\n",
    "# Activation: relu\n",
    "# Loss: categorical_crossentropy\n",
    "# Model Generation Time: \n",
    "\"Model Generation time:  68.1452419757843\"\n",
    "\n",
    "# Model summary:\n",
    "\"\"\"\n",
    "Model: \"sequential\"\n",
    "_________________________________________________________________\n",
    "Layer (type)                 Output Shape              Param #   \n",
    "=================================================================\n",
    "conv2d (Conv2D)              (None, 28, 28, 64)        320       \n",
    "_________________________________________________________________\n",
    "max_pooling2d (MaxPooling2D) (None, 14, 14, 64)        0         \n",
    "_________________________________________________________________\n",
    "dropout (Dropout)            (None, 14, 14, 64)        0         \n",
    "_________________________________________________________________\n",
    "conv2d_1 (Conv2D)            (None, 14, 14, 32)        8224      \n",
    "_________________________________________________________________\n",
    "max_pooling2d_1 (MaxPooling2 (None, 7, 7, 32)          0         \n",
    "_________________________________________________________________\n",
    "dropout_1 (Dropout)          (None, 7, 7, 32)          0         \n",
    "_________________________________________________________________\n",
    "flatten (Flatten)            (None, 1568)              0         \n",
    "_________________________________________________________________\n",
    "dense (Dense)                (None, 256)               401664    \n",
    "_________________________________________________________________\n",
    "dropout_2 (Dropout)          (None, 256)               0         \n",
    "_________________________________________________________________\n",
    "dense_1 (Dense)              (None, 10)                2570      \n",
    "=================================================================\n",
    "Total params: 412,778\n",
    "Trainable params: 412,778\n",
    "Non-trainable params: 0\n",
    "\"\"\"\n",
    "\n",
    "# Model Training Time: \n",
    "\"Model Training time:  206.23725581169128\"\n",
    "# Model Training:\n",
    "\"\"\"\n",
    "Epoch 1/10\n",
    "782/782 [==============================] - ETA: 0s - loss: 0.6423 - accuracy: 0.7598\n",
    "Epoch 00001: val_loss improved from inf to 0.40693, saving model to 2_batch_norm/model.weights.best.hdf5\n",
    "782/782 [==============================] - 20s 25ms/step - loss: 0.6423 - accuracy: 0.7598 - val_loss: 0.4069 - val_accuracy: 0.8494\n",
    "\n",
    "Epoch 9/10\n",
    "781/782 [============================>.] - ETA: 0s - loss: 0.2968 - accuracy: 0.8902\n",
    "Epoch 00009: val_loss improved from 0.25388 to 0.25069, saving model to 2_batch_norm/model.weights.best.hdf5\n",
    "782/782 [==============================] - 23s 30ms/step - loss: 0.2969 - accuracy: 0.8901 - val_loss: 0.2507 - val_accuracy: 0.9049\n",
    "\n",
    "Epoch 10/10\n",
    "780/782 [============================>.] - ETA: 0s - loss: 0.2889 - accuracy: 0.8907\n",
    "Epoch 00010: val_loss did not improve from 0.25069\n",
    "782/782 [==============================] - 19s 24ms/step - loss: 0.2889 - accuracy: 0.8908 - val_loss: 0.2530 - val_accuracy: 0.9046\n",
    "\n",
    "\"\"\"\n",
    "\n",
    "# Model Testing Time: \n",
    "\"Model Prediction time:  1.8418166637420654\"\n",
    "# Model Testing:\n",
    "\"Test accuracy: 0.8057000041007996\""
   ]
  },
  {
   "cell_type": "code",
   "execution_count": 18,
   "metadata": {},
   "outputs": [
    {
     "data": {
      "text/plain": [
       "'Test accuracy: 0.902999997138977'"
      ]
     },
     "execution_count": 18,
     "metadata": {},
     "output_type": "execute_result"
    }
   ],
   "source": [
    "# Model 2\n",
    "# Batch Normalization: True\n",
    "# Activation: relu\n",
    "# Loss: categorical_crossentropy\n",
    "# Model Generation Time: \n",
    "\"Model Generation time:  78.46980929374695\"\n",
    "\n",
    "# Model summary:\n",
    "\"\"\"\n",
    "Model: \"sequential\"\n",
    "_________________________________________________________________\n",
    "Layer (type)                 Output Shape              Param #   \n",
    "=================================================================\n",
    "conv2d (Conv2D)              (None, 28, 28, 64)        320       \n",
    "_________________________________________________________________\n",
    "batch_normalization (BatchNo (None, 28, 28, 64)        256       \n",
    "_________________________________________________________________\n",
    "max_pooling2d (MaxPooling2D) (None, 14, 14, 64)        0         \n",
    "_________________________________________________________________\n",
    "dropout (Dropout)            (None, 14, 14, 64)        0         \n",
    "_________________________________________________________________\n",
    "conv2d_1 (Conv2D)            (None, 14, 14, 32)        8224      \n",
    "_________________________________________________________________\n",
    "batch_normalization_1 (Batch (None, 14, 14, 32)        128       \n",
    "_________________________________________________________________\n",
    "max_pooling2d_1 (MaxPooling2 (None, 7, 7, 32)          0         \n",
    "_________________________________________________________________\n",
    "dropout_1 (Dropout)          (None, 7, 7, 32)          0         \n",
    "_________________________________________________________________\n",
    "flatten (Flatten)            (None, 1568)              0         \n",
    "_________________________________________________________________\n",
    "dense (Dense)                (None, 256)               401664    \n",
    "_________________________________________________________________\n",
    "dropout_2 (Dropout)          (None, 256)               0         \n",
    "_________________________________________________________________\n",
    "dense_1 (Dense)              (None, 10)                2570      \n",
    "=================================================================\n",
    "Total params: 413,162\n",
    "Trainable params: 412,970\n",
    "Non-trainable params: 192\"\"\"\n",
    "\n",
    "# Model Training Time:\n",
    "\"Model Training time:  241.26198720932007\"\n",
    "\n",
    "# Model Training:\n",
    "\"\"\"\n",
    "Epoch 1/10\n",
    "782/782 [==============================] - ETA: 0s - loss: 0.6200 - accuracy: 0.7788\n",
    "Epoch 00001: val_loss improved from inf to 0.38009, saving model to 2_batch_norm_model.weights.best.hdf5\n",
    "782/782 [==============================] - 24s 30ms/step - loss: 0.6200 - accuracy: 0.7788 - val_loss: 0.3801 - val_accuracy: 0.8596\n",
    "Epoch 10/10\n",
    "781/782 [============================>.] - ETA: 0s - loss: 0.2842 - accuracy: 0.8942\n",
    "Epoch 00010: val_loss improved from 0.26276 to 0.23875, saving model to 2_batch_norm_model.weights.best.hdf5\n",
    "782/782 [==============================] - 24s 31ms/step - loss: 0.2841 - accuracy: 0.8943 - val_loss: 0.2387 - val_accuracy: 0.9141\n",
    "\n",
    "\"\"\"\n",
    "\n",
    "# Model Testing Time:\n",
    "\"Model Prediction time:  2.018071174621582\"\n",
    "\n",
    "# Model Testing:\n",
    "\"Test accuracy: 0.902999997138977\""
   ]
  },
  {
   "cell_type": "code",
   "execution_count": 19,
   "metadata": {},
   "outputs": [
    {
     "data": {
      "text/plain": [
       "'Test accuracy: 0.8482000231742859'"
      ]
     },
     "execution_count": 19,
     "metadata": {},
     "output_type": "execute_result"
    }
   ],
   "source": [
    "# Model 3\n",
    "# Batch Normalization: False\n",
    "# Activation: sigmoid\n",
    "# Loss: categorical_crossentropy\n",
    "# Model Generation Time: \n",
    "\"Model Generation time:  80.42562103271484\"\n",
    "\n",
    "# Model summary:\n",
    "\"\"\"\n",
    "Model: \"sequential\"\n",
    "_________________________________________________________________\n",
    "Layer (type)                 Output Shape              Param #   \n",
    "=================================================================\n",
    "conv2d (Conv2D)              (None, 28, 28, 64)        320       \n",
    "_________________________________________________________________\n",
    "max_pooling2d (MaxPooling2D) (None, 14, 14, 64)        0         \n",
    "_________________________________________________________________\n",
    "dropout (Dropout)            (None, 14, 14, 64)        0         \n",
    "_________________________________________________________________\n",
    "conv2d_1 (Conv2D)            (None, 14, 14, 32)        8224      \n",
    "_________________________________________________________________\n",
    "max_pooling2d_1 (MaxPooling2 (None, 7, 7, 32)          0         \n",
    "_________________________________________________________________\n",
    "dropout_1 (Dropout)          (None, 7, 7, 32)          0         \n",
    "_________________________________________________________________\n",
    "flatten (Flatten)            (None, 1568)              0         \n",
    "_________________________________________________________________\n",
    "dense (Dense)                (None, 256)               401664    \n",
    "_________________________________________________________________\n",
    "dropout_2 (Dropout)          (None, 256)               0         \n",
    "_________________________________________________________________\n",
    "dense_1 (Dense)              (None, 10)                2570      \n",
    "=================================================================\n",
    "Total params: 412,778\n",
    "Trainable params: 412,778\n",
    "Non-trainable params: 0\n",
    "\"\"\"\n",
    "\n",
    "# Model Training Time: \n",
    "\"Model Training time:  201.48682951927185\"\n",
    "# Model Training:\n",
    "\"\"\"\n",
    "Epoch 1/10\n",
    "782/782 [==============================] - ETA: 0s - loss: 2.3156 - accuracy: 0.0995\n",
    "Epoch 00001: val_loss improved from inf to 2.30267, saving model to 2_batch_norm_model.weights.best.hdf5\n",
    "782/782 [==============================] - 23s 29ms/step - loss: 2.3156 - accuracy: 0.0995 - val_loss: 2.3027 - val_accuracy: 0.1022\n",
    "Epoch 10/10\n",
    "779/782 [============================>.] - ETA: 0s - loss: 0.4561 - accuracy: 0.8280\n",
    "Epoch 00010: val_loss improved from 0.40228 to 0.38204, saving model to 2_batch_norm_model.weights.best.hdf5\n",
    "782/782 [==============================] - 18s 23ms/step - loss: 0.4563 - accuracy: 0.8279 - val_loss: 0.3820 - val_accuracy: 0.8526\n",
    "\"\"\"\n",
    "\n",
    "# Model Testing Time:\n",
    "\"Model Prediction time:  1.7630040645599365\"\n",
    "\n",
    "# Model Testing:\n",
    "\"Test accuracy: 0.8482000231742859\""
   ]
  },
  {
   "cell_type": "code",
   "execution_count": 21,
   "metadata": {},
   "outputs": [
    {
     "data": {
      "text/plain": [
       "'Test accuracy: 0.900600016117096'"
      ]
     },
     "execution_count": 21,
     "metadata": {},
     "output_type": "execute_result"
    }
   ],
   "source": [
    "# Model 4\n",
    "# Batch Normalization: True\n",
    "# Activation: sigmoid\n",
    "# Loss: categorical_crossentropy\n",
    "# Model Generation Time: \n",
    "\"Model Generation time:  72.73888182640076\"\n",
    "\n",
    "# Model summary:\n",
    "\"\"\"\n",
    "Model: \"sequential\"\n",
    "_________________________________________________________________\n",
    "Layer (type)                 Output Shape              Param #   \n",
    "=================================================================\n",
    "conv2d (Conv2D)              (None, 28, 28, 64)        320       \n",
    "_________________________________________________________________\n",
    "max_pooling2d (MaxPooling2D) (None, 14, 14, 64)        0         \n",
    "_________________________________________________________________\n",
    "dropout (Dropout)            (None, 14, 14, 64)        0         \n",
    "_________________________________________________________________\n",
    "conv2d_1 (Conv2D)            (None, 14, 14, 32)        8224      \n",
    "_________________________________________________________________\n",
    "max_pooling2d_1 (MaxPooling2 (None, 7, 7, 32)          0         \n",
    "_________________________________________________________________\n",
    "dropout_1 (Dropout)          (None, 7, 7, 32)          0         \n",
    "_________________________________________________________________\n",
    "flatten (Flatten)            (None, 1568)              0         \n",
    "_________________________________________________________________\n",
    "dense (Dense)                (None, 256)               401664    \n",
    "_________________________________________________________________\n",
    "dropout_2 (Dropout)          (None, 256)               0         \n",
    "_________________________________________________________________\n",
    "dense_1 (Dense)              (None, 10)                2570      \n",
    "=================================================================\n",
    "Total params: 412,778\n",
    "Trainable params: 412,778\n",
    "Non-trainable params: 0\n",
    "\"\"\"\n",
    "\n",
    "# Model Training Time: \n",
    "\"Model Training time:  218.68054509162903\"\n",
    "\n",
    "# Model Training:\n",
    "\"\"\"\n",
    "Epoch 1/10\n",
    "782/782 [==============================] - ETA: 0s - loss: 0.5499 - accuracy: 0.7987\n",
    "Epoch 00001: val_loss improved from inf to 0.58149, saving model to 2_batch_norm_model.weights.best.hdf5\n",
    "782/782 [==============================] - 21s 27ms/step - loss: 0.5499 - accuracy: 0.7987 - val_loss: 0.5815 - val_accuracy: 0.7606\n",
    "Epoch 9/10\n",
    "782/782 [==============================] - ETA: 0s - loss: 0.2738 - accuracy: 0.9000\n",
    "Epoch 00009: val_loss improved from 0.26887 to 0.24706, saving model to 2_batch_norm_model.weights.best.hdf5\n",
    "782/782 [==============================] - 22s 29ms/step - loss: 0.2738 - accuracy: 0.9000 - val_loss: 0.2471 - val_accuracy: 0.9103\n",
    "Epoch 10/10\n",
    "780/782 [============================>.] - ETA: 0s - loss: 0.2635 - accuracy: 0.9028\n",
    "Epoch 00010: val_loss did not improve from 0.24706\n",
    "782/782 [==============================] - 24s 30ms/step - loss: 0.2637 - accuracy: 0.9027 - val_loss: 0.3064 - val_accuracy: 0.8866\n",
    "\"\"\"\n",
    "\n",
    "# Model Testing Time:\n",
    "\"Model Prediction time:  2.2132203578948975\"\n",
    "\n",
    "# Model Testing:\n",
    "\"Test accuracy: 0.900600016117096\""
   ]
  },
  {
   "cell_type": "markdown",
   "metadata": {},
   "source": [
    "# Conclusion\n",
    "\n",
    "## Competitors:\n",
    "1. relu activation without batch normalization\n",
    "\n",
    "2. relu activation with batch normalization\n",
    "\n",
    "3. sigmoid activation without batch normalization\n",
    "\n",
    "4. sigmoid activation with batch normalization\n",
    "\n",
    "## Model Generation Time:\n",
    "1(68) < 4(72) < 2(78) < 3(80)\n",
    "\n",
    "## Model Training Time:\n",
    "3(201) < 1(206) < 4(218) < 2(241)\n",
    "\n",
    "## Maxm Validation Accuracy:\n",
    "3(0.8526) < 1(0.9049) < 4(0.9103) < 2(0.9141)\n",
    "\n",
    "## Testing Accuracy:\n",
    "1(0.805) < 3(0.848) < 4(0.900) < 2(0.902)\n",
    "\n",
    "## Maxm Training Accuracy:\n",
    "3(0.8280) < 1(0.8908) < 2(0.893) < 4(0.9027)\n",
    "\n",
    "\n",
    "# Result:\n",
    "Best to use: relu with batch normalization > then sigmoid with batch normalization"
   ]
  },
  {
   "cell_type": "code",
   "execution_count": null,
   "metadata": {},
   "outputs": [],
   "source": []
  }
 ],
 "metadata": {
  "kernelspec": {
   "display_name": "Python 3",
   "language": "python",
   "name": "python3"
  },
  "language_info": {
   "codemirror_mode": {
    "name": "ipython",
    "version": 3
   },
   "file_extension": ".py",
   "mimetype": "text/x-python",
   "name": "python",
   "nbconvert_exporter": "python",
   "pygments_lexer": "ipython3",
   "version": "3.7.6"
  }
 },
 "nbformat": 4,
 "nbformat_minor": 4
}
