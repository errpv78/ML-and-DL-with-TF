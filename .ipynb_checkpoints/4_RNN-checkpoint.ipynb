{
 "cells": [
  {
   "cell_type": "code",
   "execution_count": 1,
   "metadata": {},
   "outputs": [],
   "source": [
    "import numpy as np\n",
    "from tensorflow.keras.models import Sequential\n",
    "from tensorflow.keras.layers import TimeDistributed, Dense, Dropout, SimpleRNN, RepeatVector\n",
    "from tensorflow.keras.callbacks import EarlyStopping, LambdaCallback\n",
    "import tensorflow as tf\n",
    "from termcolor import colored"
   ]
  },
  {
   "cell_type": "code",
   "execution_count": 2,
   "metadata": {},
   "outputs": [],
   "source": [
    "# Checking if GPU available\n",
    "physical_devices = tf.config.experimental.list_physical_devices(\"GPU\")\n",
    "tf.config.experimental.set_memory_growth(physical_devices[0], True)"
   ]
  },
  {
   "cell_type": "code",
   "execution_count": 3,
   "metadata": {},
   "outputs": [],
   "source": [
    "chars_for_add = '0123456789+'\n",
    "num_features = len(chars_for_add)\n",
    "char_to_index = dict((c, i) for i, c in enumerate(chars_for_add))\n",
    "index_to_char = dict((i, c) for i, c in enumerate(chars_for_add))"
   ]
  },
  {
   "cell_type": "code",
   "execution_count": 4,
   "metadata": {},
   "outputs": [
    {
     "data": {
      "text/plain": [
       "('5899+239', '6138')"
      ]
     },
     "execution_count": 4,
     "metadata": {},
     "output_type": "execute_result"
    }
   ],
   "source": [
    "def generate_samples_for_add():\n",
    "    first = np.random.randint(0,10000)\n",
    "    second = np.random.randint(0,10000)\n",
    "    sample = str(first) + '+' + str(second)\n",
    "    label = str(first+second)\n",
    "    return sample, label\n",
    "generate_samples_for_add()"
   ]
  },
  {
   "cell_type": "code",
   "execution_count": 5,
   "metadata": {},
   "outputs": [
    {
     "name": "stdout",
     "output_type": "stream",
     "text": [
      "Model: \"sequential\"\n",
      "_________________________________________________________________\n",
      "Layer (type)                 Output Shape              Param #   \n",
      "=================================================================\n",
      "simple_rnn (SimpleRNN)       (None, 128)               17920     \n",
      "_________________________________________________________________\n",
      "repeat_vector (RepeatVector) (None, 11, 128)           0         \n",
      "_________________________________________________________________\n",
      "simple_rnn_1 (SimpleRNN)     (None, 11, 128)           32896     \n",
      "_________________________________________________________________\n",
      "time_distributed (TimeDistri (None, 11, 11)            1419      \n",
      "=================================================================\n",
      "Total params: 52,235\n",
      "Trainable params: 52,235\n",
      "Non-trainable params: 0\n",
      "_________________________________________________________________\n"
     ]
    }
   ],
   "source": [
    "hidden_units = 128\n",
    "max_time_steps = 11\n",
    "\n",
    "model = Sequential([\n",
    "    # Simple RNN\n",
    "    \"\"\"Fully-connected RNN where output is to be fed back to input.\n",
    "    units: Positive integer, dimensionality of the output space.\n",
    "    activation: Activation function to use. Default: hyperbolic \n",
    "    tangent (tanh). If you pass None, no activation is applied (ie.\n",
    "    \"linear\" activation: a(x) = x).\"\"\"\n",
    "    SimpleRNN(hidden_units, input_shape=(None, num_features)),\n",
    "    \n",
    "    # Repeat Vector\n",
    "    \"\"\"Repeats the input max_time_steps times\"\"\"\n",
    "    RepeatVector(max_time_steps),\n",
    "    \n",
    "    \"\"\"return_sequences\tBoolean. Whether to return the last output in\n",
    "    the output sequence, or the full sequence. Default: False.\"\"\"\n",
    "    SimpleRNN(hidden_units, return_sequences=True),\n",
    "    \n",
    "    # Time distributed layer\n",
    "    \"\"\"This wrapper allows to apply a layer to every temporal slice of\n",
    "    an input.\n",
    "    The input should be at least 3D, and the dimension of index one \n",
    "    will be considered to be the temporal dimension.\"\"\"\n",
    "    TimeDistributed(Dense(num_features, activation='softmax'))\n",
    "])\n",
    "\n",
    "model.compile(\n",
    "    loss='categorical_crossentropy',\n",
    "    optimizer='adam',\n",
    "    metrics=['accuracy']\n",
    ")\n",
    "\n",
    "model.summary()"
   ]
  },
  {
   "cell_type": "code",
   "execution_count": 6,
   "metadata": {},
   "outputs": [
    {
     "name": "stdout",
     "output_type": "stream",
     "text": [
      "8812+4109 12921\n",
      "(11, 11) (11, 11)\n"
     ]
    }
   ],
   "source": [
    "def vectorize_sample(sample, label):\n",
    "    x = np.zeros((max_time_steps, num_features))\n",
    "    y = np.zeros((max_time_steps, num_features))\n",
    "    diff_x = max_time_steps - len(sample)\n",
    "    diff_y = max_time_steps - len(label)\n",
    "    for i, c in enumerate(sample):\n",
    "        x[i+diff_x, char_to_index[c]] = 1\n",
    "    for i in range(diff_x):\n",
    "        x[i, char_to_index['0']] = 1\n",
    "    for i, c in enumerate(label):\n",
    "        y[i+diff_y, char_to_index[c]] = 1\n",
    "    for i in range(diff_x):\n",
    "        y[i, char_to_index['0']] = 1\n",
    "    return x,y    \n",
    "        \n",
    "e, l = generate_samples_for_add()\n",
    "print(e, l)\n",
    "x, y = vectorize_sample(e, l)\n",
    "print(x.shape, y.shape)"
   ]
  },
  {
   "cell_type": "code",
   "execution_count": 7,
   "metadata": {},
   "outputs": [
    {
     "data": {
      "text/plain": [
       "'008812+4109'"
      ]
     },
     "execution_count": 7,
     "metadata": {},
     "output_type": "execute_result"
    }
   ],
   "source": [
    "def devectorize_sample(sample):\n",
    "    res = [index_to_char[np.argmax(vec)] for i, vec in enumerate(sample)]\n",
    "    return ''.join(res)\n",
    "\n",
    "devectorize_sample(x)"
   ]
  },
  {
   "cell_type": "code",
   "execution_count": 8,
   "metadata": {},
   "outputs": [
    {
     "data": {
      "text/plain": [
       "'00000012921'"
      ]
     },
     "execution_count": 8,
     "metadata": {},
     "output_type": "execute_result"
    }
   ],
   "source": [
    "devectorize_sample(y)"
   ]
  },
  {
   "cell_type": "code",
   "execution_count": 9,
   "metadata": {},
   "outputs": [
    {
     "name": "stdout",
     "output_type": "stream",
     "text": [
      "(5000, 11, 11) (5000, 11, 11)\n"
     ]
    },
    {
     "data": {
      "text/plain": [
       "'001298+1595'"
      ]
     },
     "execution_count": 9,
     "metadata": {},
     "output_type": "execute_result"
    }
   ],
   "source": [
    "# Dataset\n",
    "def create_dataset(num_samples=5000):\n",
    "    x = np.zeros((num_samples, max_time_steps, num_features))\n",
    "    y = np.zeros((num_samples, max_time_steps, num_features))\n",
    "    for i in range(num_samples):\n",
    "        e, l = generate_samples_for_add()\n",
    "        e, l = vectorize_sample(e, l)\n",
    "        x[i] = e\n",
    "        y[i] = l\n",
    "    return x, y    \n",
    "\n",
    "x, y = create_dataset()\n",
    "print(x.shape, y.shape)\n",
    "devectorize_sample(x[78])\n"
   ]
  },
  {
   "cell_type": "code",
   "execution_count": 11,
   "metadata": {},
   "outputs": [
    {
     "data": {
      "text/plain": [
       "'00000002893'"
      ]
     },
     "execution_count": 11,
     "metadata": {},
     "output_type": "execute_result"
    }
   ],
   "source": [
    "devectorize_sample(y[78])\n"
   ]
  },
  {
   "cell_type": "code",
   "execution_count": null,
   "metadata": {},
   "outputs": [],
   "source": [
    "# Model Training\n",
    "l_cb = LambdaCallback(\n",
    "    on_epoch_end = lambda e, l:print('{:.2f}'.format(l['val_accuracy']), end=' _ ')\n",
    ")\n",
    "es_cb = EarlyStopping(monitor='val_loss', patience=10)\n",
    "model.fit(x, y, epochs=500, batch_size=256, validation_split=0.2,\n",
    "         verbose=False, callbacks=[es_cb, l_cb])\n",
    "\n"
   ]
  },
  {
   "cell_type": "code",
   "execution_count": null,
   "metadata": {},
   "outputs": [],
   "source": [
    "x_test, y_test = create_dataset(10)\n",
    "preds = model.predict(x_test)\n",
    "\n",
    "for i, pred in enumerate(preds):\n",
    "    y = devectorize_sample(y_test[i])\n",
    "    y_pred = devectorize_sample(pred)\n",
    "    col = 'green'\n",
    "    if y!=y_pred:\n",
    "        col='red'\n",
    "    out = 'Input: '+devectorize_sample(x_test[i])+ ' Out:'+y+' Pred: '+y_pred\n",
    "    print(colored(out, col))"
   ]
  },
  {
   "cell_type": "code",
   "execution_count": null,
   "metadata": {},
   "outputs": [],
   "source": []
  }
 ],
 "metadata": {
  "kernelspec": {
   "display_name": "Python 3",
   "language": "python",
   "name": "python3"
  },
  "language_info": {
   "codemirror_mode": {
    "name": "ipython",
    "version": 3
   },
   "file_extension": ".py",
   "mimetype": "text/x-python",
   "name": "python",
   "nbconvert_exporter": "python",
   "pygments_lexer": "ipython3",
   "version": "3.7.6"
  }
 },
 "nbformat": 4,
 "nbformat_minor": 4
}
