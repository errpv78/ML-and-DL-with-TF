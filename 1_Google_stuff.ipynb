{
 "cells": [
  {
   "cell_type": "markdown",
   "metadata": {},
   "source": [
    "# Google Compute Engine\n",
    "Google Compute Engine (GCE) is the Infrastructure as a Service (IaaS) component of Google Cloud Platform which is built on the global infrastructure that runs Google's search engine, Gmail, YouTube and other services. Google Compute Engine enables users to launch virtual machines (VMs) on demand. VMs can be launched from the standard images or custom images created by users.\n",
    "\n",
    "#### Infrastructure as a service (IaaS):\n",
    "These are online services that provide high-level APIs used to dereference(In computer programming, indirection (also called dereferencing) is the ability to reference something using a name, reference, or container instead of the value itself) various low-level details of underlying network infrastructure like physical computing resources, location, data partitioning, scaling, security, backup etc.\n",
    "\n",
    "#### Virtual Machines\n",
    "In computing, a virtual machine (VM) is an emulation(In computing, an emulator is hardware or software that enables one computer system (called the host) to behave like another computer system (called the guest). An emulator typically enables the host system to run software or use peripheral devices designed for the guest system) of a computer system. Virtual machines are based on computer architectures and provide functionality of a physical computer. \n",
    "\n",
    "#### SSH Secure Shell\n",
    "SSH is a software package that enables secure system administration and file transfers over insecure networks. It is used in nearly every data center and in every large enterprise."
   ]
  },
  {
   "cell_type": "markdown",
   "metadata": {},
   "source": [
    "## cat command in shell script\n",
    "The cat (short for “concatenate“) command is one of the most frequently used command in Linux/Unix like operating systems. cat command allows us to create single or multiple files, view contain of file, concatenate files and redirect output in terminal or files.\n",
    "Its functions:\n",
    "\n",
    "1. Display Contents of File\n",
    "\n",
    "cat /etc/passwd\n",
    "\n",
    "2. View Contents of Multiple Files in terminal\n",
    "\n",
    "cat test test1\n",
    "\n",
    "3. Create a File with Cat Command\n",
    "\n",
    "cat >test2\n",
    "\n",
    "cat test2\n",
    "\n",
    "4. Use Cat Command with More & Less Options\n",
    "\n",
    "cat song.txt | more\n",
    "\n",
    "cat song.txt | less\n",
    "\n",
    "5. Display Line Numbers in File\n",
    "\n",
    "cat -n song.txt\n",
    "\n",
    "6. Display $ at the End of File\n",
    "\n",
    "cat -e test\n",
    "\n",
    "7. Display Tab separated Lines in File\n",
    "\n",
    "cat -T test\n",
    "\n",
    "8. Display Multiple Files at Once\n",
    "\n",
    "cat test; cat test1; cat test2\n",
    "\n",
    "9. Use Standard Output with Redirection Operator\n",
    "\n",
    "cat test > test1\n",
    "\n",
    "10. Appending Standard Output with Redirection Operator\n",
    "\n",
    "cat test >> test1\n",
    "\n",
    "11. Redirecting Standard Input with Redirection Operator\n",
    "\n",
    "cat < test2\n",
    "\n",
    "12. Redirecting Multiple Files Contain in a Single File\n",
    "\n",
    "cat test test1 test2 > test3\n",
    "\n",
    "13. Sorting Contents of Multiple Files in a Single File\n",
    "\n",
    "cat test test1 test2 test3 | sort > test4\n",
    "\n",
    "### Less command:\n",
    "On Linux systems, less is a command that displays file contents or command output one page at a time in your terminal. less is most useful for viewing the content of large files or the results of commands that produce many lines of output. \n"
   ]
  },
  {
   "cell_type": "code",
   "execution_count": null,
   "metadata": {},
   "outputs": [],
   "source": []
  }
 ],
 "metadata": {
  "kernelspec": {
   "display_name": "Python 3",
   "language": "python",
   "name": "python3"
  },
  "language_info": {
   "codemirror_mode": {
    "name": "ipython",
    "version": 3
   },
   "file_extension": ".py",
   "mimetype": "text/x-python",
   "name": "python",
   "nbconvert_exporter": "python",
   "pygments_lexer": "ipython3",
   "version": "3.7.6"
  }
 },
 "nbformat": 4,
 "nbformat_minor": 4
}
